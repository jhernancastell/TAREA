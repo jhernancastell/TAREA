{
 "cells": [
  {
   "cell_type": "code",
   "execution_count": 1,
   "metadata": {},
   "outputs": [],
   "source": [
    "\n",
    "import sympy as sym\n",
    "import matplotlib.pyplot as plt\n",
    "import numpy as np\n",
    "from sympy import oo\n",
    "sym.init_printing()\n",
    "%matplotlib inline\n",
    "\n",
    "## Puede que requiera incorporar más librerías o definir nuevas funciones.  Hágalo a continuación\n",
    "\n",
    "def pole_zero_plot(poles, zeros, ax=None):\n",
    "    mR = -2\n",
    "    MR = 2\n",
    "    mI = -2\n",
    "    MI = 2\n",
    "    for pole in poles:\n",
    "        plt.plot(complex(pole).real, complex(pole).imag, 'rx', markersize=10)\n",
    "        if complex(pole).real < mR:\n",
    "            mR = complex(pole).real\n",
    "        if complex(pole).real > MR:\n",
    "            MR = complex(pole).real\n",
    "        if complex(pole).imag < mI:\n",
    "            mI = complex(pole).imag\n",
    "        if complex(pole).imag > MI:\n",
    "            MI = complex(pole).imag\n",
    "            \n",
    "    for zero in zeros:\n",
    "        plt.plot(complex(zero).real, complex(zero).imag, 'bo', markersize=10)\n",
    "        if complex(zero).real < mR:\n",
    "            mR = complex(zero).real\n",
    "        if complex(zero).real > MR:\n",
    "            MR = complex(zero).real\n",
    "        if complex(zero).imag < mI:\n",
    "            mI = complex(zero).imag\n",
    "        if complex(zero).imag > MI:\n",
    "            MI = complex(zero).imag\n",
    "\n",
    "            \n",
    "    if ax is None:\n",
    "        ax = plt.gca()\n",
    "    ax.set_aspect(1)\n",
    "    \n",
    "    plt.axis([mR*1.1, MR*1.1, mI*1.1, MI*1.1])\n",
    "    plt.xlabel(r'$\\Re \\{ s \\}$')\n",
    "    plt.ylabel(r'$\\Im \\{ s \\}$')\n",
    "    plt.grid()\n",
    "\n",
    "\n",
    "s = sym.symbols('s', complex=True)\n",
    "sigma, omega = sym.symbols('sigma omega')"
   ]
  },
  {
   "cell_type": "markdown",
   "metadata": {},
   "source": [
    "## Tarea\n",
    "\n",
    "Nombres: **Ponga aquí sus nombres completos separados por coma**"
   ]
  },
  {
   "cell_type": "markdown",
   "metadata": {},
   "source": [
    "Suponga que tiene un sistema de tiempo continuo que se excita con una entrada $x(t)$ y responde con una señal $y(t)$, como lo muestra la figura:\n",
    "\n",
    "![Diagrama de un bloque](bloque.png)\n",
    "\n",
    "Analice el modelo del sistema para los modelos en cada uno de los casos siguientes:"
   ]
  },
  {
   "cell_type": "markdown",
   "metadata": {},
   "source": [
    "|Caso  |       Ecuación                                                                         |\n",
    "|------|----------------------------------------------------------------------------------------|\n",
    "| A    | \\begin{equation} \\frac{dy}{dt} + 5y(t) = 5x(t) \\end{equation}                          |\n",
    "| B    | \\begin{equation} \\frac{dy}{dt} - 5y(t) = 5x(t) \\end{equation}                          |\n",
    "| C    | \\begin{equation} \\frac{dy}{dt} + 5y(t) = 1x(t) \\end{equation}                          |\n",
    "| D    | \\begin{equation} \\frac{d^{2}y}{dt^{2}} + 5\\frac{dy}{dt} + y(t) = x(t) \\end{equation}   |\n",
    "| E    | \\begin{equation} \\frac{d^{2}y}{dt^{2}} + y(t) = x(t) \\end{equation}                    |\n",
    "| F    | \\begin{equation} \\frac{d^{2}y}{dt^{2}} + 0.5\\frac{dy}{dt} + y(t) = x(t) \\end{equation} |\n",
    "| G    | \\begin{equation} \\frac{d^{2}y}{dt^{2}} - 5\\frac{dy}{dt} + y(t) = x(t) \\end{equation}   |\n",
    "| H    | \\begin{equation} \\frac{d^{2}y}{dt^{2}} - 0.5\\frac{dy}{dt} + y(t) = x(t) \\end{equation} |\n"
   ]
  },
  {
   "cell_type": "markdown",
   "metadata": {},
   "source": [
    "### Análisis\n",
    "\n",
    "- Lleve la ecuación diferencial al dominio de las frecuencias usando la transformada de Laplace.\n",
    "\\begin{equation}\n",
    "EscribaAquíLaEcuaciónTransformada\n",
    "\\end{equation}\n",
    "\n",
    "- Encuentre la función de transferencia del sistema.\n",
    "\\begin{equation}\n",
    "F(s) = EscribaAquíLaFunciónDeTransferencia\n",
    "\\end{equation}\n",
    "\n",
    "- Grafique el mapa de polos y ceros"
   ]
  },
  {
   "cell_type": "markdown",
   "metadata": {},
   "source": [
    "- Analice la gráfica obtenida, escriba su análisis y determine la estabilidad del sistema y el tipo de amortiguamiento.\n",
    "    - Escriba aquí su discusión.\n",
    "    - Puede usar viñetas o párrafos.\n",
    "    - Conserve las sangrías para facilitar la lectura."
   ]
  },
  {
   "cell_type": "markdown",
   "metadata": {},
   "source": [
    "### Análisis A\n",
    "\n",
    "\\begin{equation} \\frac{dy}{dt} + 5y(t) = 5x(t) \\end{equation} \n",
    "- Lleve la ecuación diferencial al dominio de las frecuencias usando la transformada de Laplace.\n",
    "\n",
    "\\begin{equation}\n",
    "s*Y(s)+5Y(s)-5X(s)=0\n",
    "\\end{equation}\n",
    "\n",
    "- Encuentre la función de transferencia del sistema.\n",
    "\\begin{equation}\n",
    "F(s) = Y (s) ( s +5 ) = 5X (s)\n",
    "\\end{equation}\n",
    "\n",
    "\\begin{equation}\n",
    "F(s) = \\frac{Y(s)}{X(s)} = \\frac{5}{5 + s}\n",
    "\\end{equation}\n",
    "- Grafique el mapa de polos y ceros"
   ]
  },
  {
   "cell_type": "code",
   "execution_count": 2,
   "metadata": {},
   "outputs": [
    {
     "data": {
      "image/png": "[encoded data removed]",
      "text/latex": [
       "$\\displaystyle \\frac{5}{s + 5}$"
      ],
      "text/plain": [
       "  5  \n",
       "─────\n",
       "s + 5"
      ]
     },
     "execution_count": 2,
     "metadata": {},
     "output_type": "execute_result"
    }
   ],
   "source": [
    "Xnum = 5\n",
    "Xden = 5 + s\n",
    "X = Xnum / Xden\n",
    "X"
   ]
  },
  {
   "cell_type": "code",
   "execution_count": 3,
   "metadata": {},
   "outputs": [
    {
     "data": {
      "image/png": "[encoded data removed]",
      "text/latex": [
       "$\\displaystyle \\left\\{ -5 : 1\\right\\}$"
      ],
      "text/plain": [
       "{-5: 1}"
      ]
     },
     "execution_count": 3,
     "metadata": {},
     "output_type": "execute_result"
    }
   ],
   "source": [
    "poles = sym.roots(sym.denom(X), s)\n",
    "poles"
   ]
  },
  {
   "cell_type": "code",
   "execution_count": 4,
   "metadata": {},
   "outputs": [
    {
     "data": {
      "image/png": "[encoded data removed]",
      "text/latex": [
       "$\\displaystyle \\left\\{ \\right\\}$"
      ],
      "text/plain": [
       "{}"
      ]
     },
     "execution_count": 4,
     "metadata": {},
     "output_type": "execute_result"
    }
   ],
   "source": [
    "zeros = sym.roots(sym.numer(X), s)\n",
    "zeros"
   ]
  },
  {
   "cell_type": "code",
   "execution_count": null,
   "metadata": {},
   "outputs": [],
   "source": []
  },
  {
   "cell_type": "code",
   "execution_count": 9,
   "metadata": {},
   "outputs": [
    {
     "data": {
      "image/png": "[encoded data removed]",
      "text/plain": [
       "<Figure size 432x288 with 1 Axes>"
      ]
     },
     "metadata": {
      "needs_background": "light"
     },
     "output_type": "display_data"
    }
   ],
   "source": [
    "X1 = X.subs({s: sigma+sym.I*omega})\n",
    "\n",
    "sym.plotting.plot3d(abs(X1),\n",
    "                    (sigma, -10, 10),\n",
    "                    (omega, -10, 10),\n",
    "                    xlabel=r'$\\Re\\{s\\}$', \n",
    "                    ylabel=r'$\\Im\\{s\\}$', \n",
    "                    title=r'$|X(s)|$');"
   ]
  },
  {
   "cell_type": "code",
   "execution_count": 10,
   "metadata": {},
   "outputs": [
    {
     "data": {
      "image/png": "[encoded data removed]",
      "text/plain": [
       "<Figure size 432x288 with 1 Axes>"
      ]
     },
     "metadata": {
      "needs_background": "light"
     },
     "output_type": "display_data"
    }
   ],
   "source": [
    "pole_zero_plot(sym.roots(sym.denom(X), s), sym.roots(sym.numer(X), s))"
   ]
  },
  {
   "cell_type": "markdown",
   "metadata": {},
   "source": [
    "- Analice la gráfica obtenida, escriba su análisis y determine la estabilidad del sistema y el tipo de amortiguamiento.\n",
    "    - Escriba aquí su discusión.\n",
    "    - Puede usar viñetas o párrafos.\n",
    "    - Conserve las sangrías para facilitar la lectura."
   ]
  },
  {
   "cell_type": "code",
   "execution_count": null,
   "metadata": {},
   "outputs": [],
   "source": [
    "## Aquí va el código extra que puede requerir para responder a las preguntas."
   ]
  },
  {
   "cell_type": "markdown",
   "metadata": {},
   "source": [
    "- Defina un periodo de muestreo apropiado para el sistema.\n",
    "\\begin{equation}\n",
    "T_\\text{s} = EscribaAquíElPeriodoDeMuestreo\n",
    "\\end{equation}\n",
    "- Encuentre el equivalente discreto del sistema (Ecuación en diferencias).\n",
    "\\begin{equation}\n",
    "EscribaAquíLaEcuación\n",
    "\\end{equation}\n",
    "\n",
    "**pista** : considere que $\\frac{df}{dt} \\approx \\frac{f(k \\cdot T_\\text{s})-f((k-1)T_\\text{s})}{T_\\text{s}}$\n",
    "\n",
    "- Encuentre la función de transferencia en $z$\n",
    "\\begin{equation}\n",
    "F(z) = EscribaAquíLaFunciónDeTransferencia\n",
    "\\end{equation}\n",
    "- Grafique el mapa de polos y ceros"
   ]
  },
  {
   "cell_type": "code",
   "execution_count": null,
   "metadata": {},
   "outputs": [],
   "source": [
    "## Aquí va el código para generar la gráfica pedida. Ejecute el código para generar la gráfica."
   ]
  },
  {
   "cell_type": "markdown",
   "metadata": {},
   "source": [
    "- Grafique y compare la respuesta frecuencial del sistema en tiempo continuo y en tiempo discreto."
   ]
  },
  {
   "cell_type": "code",
   "execution_count": null,
   "metadata": {},
   "outputs": [],
   "source": []
  },
  {
   "cell_type": "markdown",
   "metadata": {},
   "source": [
    "### Análisis B\n",
    "\n",
    "\\begin{equation} \\frac{dy}{dt} - 5y(t) = 5x(t) \\end{equation}\n",
    "- Lleve la ecuación diferencial al dominio de las frecuencias usando la transformada de Laplace.\n",
    "\n",
    "\\begin{equation}\n",
    "s*Y(s)-5Y(s)-5X(s)=0\n",
    "\\end{equation}\n",
    "\n",
    "- Encuentre la función de transferencia del sistema.\n",
    "\\begin{equation}\n",
    "F(s) = Y (s) ( s -5 ) = 5X (s)\n",
    "\\end{equation}\n",
    "\n",
    "\\begin{equation}\n",
    "F(s) = \\frac{Y(s)}{X(s)} = \\frac{5}{5 - s}\n",
    "\\end{equation}\n",
    "- Grafique el mapa de polos y ceros"
   ]
  },
  {
   "cell_type": "code",
   "execution_count": null,
   "metadata": {},
   "outputs": [],
   "source": []
  },
  {
   "cell_type": "markdown",
   "metadata": {},
   "source": [
    "- Analice la gráfica obtenida, escriba su análisis y determine la estabilidad del sistema y el tipo de amortiguamiento.\n",
    "    - Escriba aquí su discusión.\n",
    "    - Puede usar viñetas o párrafos.\n",
    "    - Conserve las sangrías para facilitar la lectura."
   ]
  },
  {
   "cell_type": "code",
   "execution_count": null,
   "metadata": {},
   "outputs": [],
   "source": [
    "## Aquí va el código extra que puede requerir para responder a las preguntas."
   ]
  },
  {
   "cell_type": "markdown",
   "metadata": {},
   "source": [
    "- Defina un periodo de muestreo apropiado para el sistema.\n",
    "\\begin{equation}\n",
    "T_\\text{s} = EscribaAquíElPeriodoDeMuestreo\n",
    "\\end{equation}\n",
    "- Encuentre el equivalente discreto del sistema (Ecuación en diferencias).\n",
    "\\begin{equation}\n",
    "EscribaAquíLaEcuación\n",
    "\\end{equation}\n",
    "\n",
    "**pista** : considere que $\\frac{df}{dt} \\approx \\frac{f(k \\cdot T_\\text{s})-f((k-1)T_\\text{s})}{T_\\text{s}}$\n",
    "\n",
    "- Encuentre la función de transferencia en $z$\n",
    "\\begin{equation}\n",
    "F(z) = EscribaAquíLaFunciónDeTransferencia\n",
    "\\end{equation}\n",
    "- Grafique el mapa de polos y ceros"
   ]
  },
  {
   "cell_type": "code",
   "execution_count": null,
   "metadata": {},
   "outputs": [],
   "source": [
    "## Aquí va el código para generar la gráfica pedida. Ejecute el código para generar la gráfica."
   ]
  },
  {
   "cell_type": "markdown",
   "metadata": {},
   "source": [
    "- Grafique y compare la respuesta frecuencial del sistema en tiempo continuo y en tiempo discreto."
   ]
  },
  {
   "cell_type": "code",
   "execution_count": null,
   "metadata": {},
   "outputs": [],
   "source": [
    "## Aquí va el código para generar la gráfica pedida. Ejecute el código para generar la gráfica."
   ]
  },
  {
   "cell_type": "code",
   "execution_count": null,
   "metadata": {},
   "outputs": [],
   "source": []
  },
  {
   "cell_type": "markdown",
   "metadata": {},
   "source": [
    "### Análisis C\n",
    "\n",
    "\\begin{equation} \\frac{dy}{dt} + 5y(t) = 1x(t) \\end{equation}\n",
    "- Lleve la ecuación diferencial al dominio de las frecuencias usando la transformada de Laplace.\n",
    "\n",
    "\\begin{equation}\n",
    "s*Y(s)+5Y(s)-1X(s)=0\n",
    "\\end{equation}\n",
    "\n",
    "- Encuentre la función de transferencia del sistema.\n",
    "\\begin{equation}\n",
    "F(s) = Y (s) ( s +5 ) = 1X (s)\n",
    "\\end{equation}\n",
    "\n",
    "\\begin{equation}\n",
    "F(s) = \\frac{Y(s)}{X(s)} = \\frac{1}{5 + s}\n",
    "\\end{equation}\n",
    "- Grafique el mapa de polos y ceros"
   ]
  },
  {
   "cell_type": "code",
   "execution_count": null,
   "metadata": {},
   "outputs": [],
   "source": []
  },
  {
   "cell_type": "markdown",
   "metadata": {},
   "source": [
    "- Analice la gráfica obtenida, escriba su análisis y determine la estabilidad del sistema y el tipo de amortiguamiento.\n",
    "    - Escriba aquí su discusión.\n",
    "    - Puede usar viñetas o párrafos.\n",
    "    - Conserve las sangrías para facilitar la lectura."
   ]
  },
  {
   "cell_type": "code",
   "execution_count": null,
   "metadata": {},
   "outputs": [],
   "source": [
    "## Aquí va el código extra que puede requerir para responder a las preguntas."
   ]
  },
  {
   "cell_type": "markdown",
   "metadata": {},
   "source": [
    "- Defina un periodo de muestreo apropiado para el sistema.\n",
    "\\begin{equation}\n",
    "T_\\text{s} = EscribaAquíElPeriodoDeMuestreo\n",
    "\\end{equation}\n",
    "- Encuentre el equivalente discreto del sistema (Ecuación en diferencias).\n",
    "\\begin{equation}\n",
    "EscribaAquíLaEcuación\n",
    "\\end{equation}\n",
    "\n",
    "**pista** : considere que $\\frac{df}{dt} \\approx \\frac{f(k \\cdot T_\\text{s})-f((k-1)T_\\text{s})}{T_\\text{s}}$\n",
    "\n",
    "- Encuentre la función de transferencia en $z$\n",
    "\\begin{equation}\n",
    "F(z) = EscribaAquíLaFunciónDeTransferencia\n",
    "\\end{equation}\n",
    "- Grafique el mapa de polos y ceros"
   ]
  },
  {
   "cell_type": "code",
   "execution_count": null,
   "metadata": {},
   "outputs": [],
   "source": [
    "## Aquí va el código para generar la gráfica pedida. Ejecute el código para generar la gráfica."
   ]
  },
  {
   "cell_type": "markdown",
   "metadata": {},
   "source": [
    "- Grafique y compare la respuesta frecuencial del sistema en tiempo continuo y en tiempo discreto."
   ]
  },
  {
   "cell_type": "code",
   "execution_count": null,
   "metadata": {},
   "outputs": [],
   "source": [
    "## Aquí va el código para generar la gráfica pedida. Ejecute el código para generar la gráfica."
   ]
  },
  {
   "cell_type": "markdown",
   "metadata": {},
   "source": [
    "### Análisis D\n",
    "\n",
    "\\begin{equation} \\frac{d^{2}y}{dt^{2}} + 5\\frac{dy}{dt} + y(t) = x(t) \\end{equation}\n",
    "- Lleve la ecuación diferencial al dominio de las frecuencias usando la transformada de Laplace.\n",
    "\n",
    "\\begin{equation}\n",
    "s^{2}*Y(s)+5sY(s)+Y(s)-X(s)=0\n",
    "\\end{equation}\n",
    "\n",
    "- Encuentre la función de transferencia del sistema.\n",
    "\\begin{equation}\n",
    "F(s) = Y (s) ( s^{2}+5s+1 ) = X (s)\n",
    "\\end{equation}\n",
    "\n",
    "\\begin{equation}\n",
    "F(s) = \\frac{Y(s)}{X(s)} = \\frac{1}{s^{2}+5s+1}\n",
    "\\end{equation}\n",
    "- Grafique el mapa de polos y ceros"
   ]
  },
  {
   "cell_type": "code",
   "execution_count": null,
   "metadata": {},
   "outputs": [],
   "source": []
  },
  {
   "cell_type": "markdown",
   "metadata": {},
   "source": [
    "- Analice la gráfica obtenida, escriba su análisis y determine la estabilidad del sistema y el tipo de amortiguamiento.\n",
    "    - Escriba aquí su discusión.\n",
    "    - Puede usar viñetas o párrafos.\n",
    "    - Conserve las sangrías para facilitar la lectura."
   ]
  },
  {
   "cell_type": "code",
   "execution_count": null,
   "metadata": {},
   "outputs": [],
   "source": [
    "## Aquí va el código extra que puede requerir para responder a las preguntas."
   ]
  },
  {
   "cell_type": "markdown",
   "metadata": {},
   "source": [
    "- Defina un periodo de muestreo apropiado para el sistema.\n",
    "\\begin{equation}\n",
    "T_\\text{s} = EscribaAquíElPeriodoDeMuestreo\n",
    "\\end{equation}\n",
    "- Encuentre el equivalente discreto del sistema (Ecuación en diferencias).\n",
    "\\begin{equation}\n",
    "EscribaAquíLaEcuación\n",
    "\\end{equation}\n",
    "\n",
    "**pista** : considere que $\\frac{df}{dt} \\approx \\frac{f(k \\cdot T_\\text{s})-f((k-1)T_\\text{s})}{T_\\text{s}}$\n",
    "\n",
    "- Encuentre la función de transferencia en $z$\n",
    "\\begin{equation}\n",
    "F(z) = EscribaAquíLaFunciónDeTransferencia\n",
    "\\end{equation}\n",
    "- Grafique el mapa de polos y ceros"
   ]
  },
  {
   "cell_type": "code",
   "execution_count": null,
   "metadata": {},
   "outputs": [],
   "source": [
    "## Aquí va el código para generar la gráfica pedida. Ejecute el código para generar la gráfica."
   ]
  },
  {
   "cell_type": "markdown",
   "metadata": {},
   "source": [
    "- Grafique y compare la respuesta frecuencial del sistema en tiempo continuo y en tiempo discreto."
   ]
  },
  {
   "cell_type": "code",
   "execution_count": null,
   "metadata": {},
   "outputs": [],
   "source": [
    "## Aquí va el código para generar la gráfica pedida. Ejecute el código para generar la gráfica."
   ]
  },
  {
   "cell_type": "markdown",
   "metadata": {},
   "source": [
    "### Análisis E\n",
    "\n",
    "\\begin{equation} \\frac{d^{2}y}{dt^{2}} + y(t) = x(t) \\end{equation}  \n",
    "- Lleve la ecuación diferencial al dominio de las frecuencias usando la transformada de Laplace.\n",
    "\n",
    "\\begin{equation}\n",
    "s^{2}*Y(s)+Y(s)-X(s)=0\n",
    "\\end{equation}\n",
    "\n",
    "- Encuentre la función de transferencia del sistema.\n",
    "\\begin{equation}\n",
    "F(s) = Y(s) ( s^{2}+1 ) = X (s)\n",
    "\\end{equation}\n",
    "\n",
    "\\begin{equation}\n",
    "F(s) = \\frac{Y(s)}{X(s)} = \\frac{1}{s^{2}+1}\n",
    "\\end{equation}\n",
    "- Grafique el mapa de polos y ceros"
   ]
  },
  {
   "cell_type": "code",
   "execution_count": null,
   "metadata": {},
   "outputs": [],
   "source": []
  },
  {
   "cell_type": "markdown",
   "metadata": {},
   "source": [
    "- Analice la gráfica obtenida, escriba su análisis y determine la estabilidad del sistema y el tipo de amortiguamiento.\n",
    "    - Escriba aquí su discusión.\n",
    "    - Puede usar viñetas o párrafos.\n",
    "    - Conserve las sangrías para facilitar la lectura."
   ]
  },
  {
   "cell_type": "code",
   "execution_count": null,
   "metadata": {},
   "outputs": [],
   "source": [
    "## Aquí va el código extra que puede requerir para responder a las preguntas."
   ]
  },
  {
   "cell_type": "markdown",
   "metadata": {},
   "source": [
    "- Defina un periodo de muestreo apropiado para el sistema.\n",
    "\\begin{equation}\n",
    "T_\\text{s} = EscribaAquíElPeriodoDeMuestreo\n",
    "\\end{equation}\n",
    "- Encuentre el equivalente discreto del sistema (Ecuación en diferencias).\n",
    "\\begin{equation}\n",
    "EscribaAquíLaEcuación\n",
    "\\end{equation}\n",
    "\n",
    "**pista** : considere que $\\frac{df}{dt} \\approx \\frac{f(k \\cdot T_\\text{s})-f((k-1)T_\\text{s})}{T_\\text{s}}$\n",
    "\n",
    "- Encuentre la función de transferencia en $z$\n",
    "\\begin{equation}\n",
    "F(z) = EscribaAquíLaFunciónDeTransferencia\n",
    "\\end{equation}\n",
    "- Grafique el mapa de polos y ceros"
   ]
  },
  {
   "cell_type": "code",
   "execution_count": null,
   "metadata": {},
   "outputs": [],
   "source": [
    "## Aquí va el código para generar la gráfica pedida. Ejecute el código para generar la gráfica."
   ]
  },
  {
   "cell_type": "markdown",
   "metadata": {},
   "source": [
    "- Grafique y compare la respuesta frecuencial del sistema en tiempo continuo y en tiempo discreto."
   ]
  },
  {
   "cell_type": "code",
   "execution_count": null,
   "metadata": {},
   "outputs": [],
   "source": [
    "## Aquí va el código para generar la gráfica pedida. Ejecute el código para generar la gráfica."
   ]
  },
  {
   "cell_type": "markdown",
   "metadata": {},
   "source": [
    "### Análisis F\n",
    "\n",
    "\\begin{equation} \\frac{d^{2}y}{dt^{2}} + 0.5\\frac{dy}{dt} + y(t) = x(t) \\end{equation} \n",
    "- Lleve la ecuación diferencial al dominio de las frecuencias usando la transformada de Laplace.\n",
    "\n",
    "\\begin{equation}\n",
    "s^{2}Y(s)+0.5s*Y(s)+Y(s)-X(s)=0\n",
    "\\end{equation}\n",
    "\n",
    "- Encuentre la función de transferencia del sistema.\n",
    "\\begin{equation}\n",
    "F(s) = Y (s) ( s^{2}+0.5s+1 ) = X (s)\n",
    "\\end{equation}\n",
    "\n",
    "\\begin{equation}\n",
    "F(s) = \\frac{Y(s)}{X(s)} = \\frac{1}{s^{2}+0.5s+1}\n",
    "\\end{equation}\n",
    "- Grafique el mapa de polos y ceros"
   ]
  },
  {
   "cell_type": "code",
   "execution_count": null,
   "metadata": {},
   "outputs": [],
   "source": []
  },
  {
   "cell_type": "markdown",
   "metadata": {},
   "source": [
    "- Analice la gráfica obtenida, escriba su análisis y determine la estabilidad del sistema y el tipo de amortiguamiento.\n",
    "    - Escriba aquí su discusión.\n",
    "    - Puede usar viñetas o párrafos.\n",
    "    - Conserve las sangrías para facilitar la lectura."
   ]
  },
  {
   "cell_type": "code",
   "execution_count": null,
   "metadata": {},
   "outputs": [],
   "source": [
    "## Aquí va el código extra que puede requerir para responder a las preguntas."
   ]
  },
  {
   "cell_type": "markdown",
   "metadata": {},
   "source": [
    "- Defina un periodo de muestreo apropiado para el sistema.\n",
    "\\begin{equation}\n",
    "T_\\text{s} = EscribaAquíElPeriodoDeMuestreo\n",
    "\\end{equation}\n",
    "- Encuentre el equivalente discreto del sistema (Ecuación en diferencias).\n",
    "\\begin{equation}\n",
    "EscribaAquíLaEcuación\n",
    "\\end{equation}\n",
    "\n",
    "**pista** : considere que $\\frac{df}{dt} \\approx \\frac{f(k \\cdot T_\\text{s})-f((k-1)T_\\text{s})}{T_\\text{s}}$\n",
    "\n",
    "- Encuentre la función de transferencia en $z$\n",
    "\\begin{equation}\n",
    "F(z) = EscribaAquíLaFunciónDeTransferencia\n",
    "\\end{equation}\n",
    "- Grafique el mapa de polos y ceros"
   ]
  },
  {
   "cell_type": "code",
   "execution_count": null,
   "metadata": {},
   "outputs": [],
   "source": [
    "## Aquí va el código para generar la gráfica pedida. Ejecute el código para generar la gráfica."
   ]
  },
  {
   "cell_type": "markdown",
   "metadata": {},
   "source": [
    "- Grafique y compare la respuesta frecuencial del sistema en tiempo continuo y en tiempo discreto."
   ]
  },
  {
   "cell_type": "code",
   "execution_count": null,
   "metadata": {},
   "outputs": [],
   "source": [
    "## Aquí va el código para generar la gráfica pedida. Ejecute el código para generar la gráfica."
   ]
  },
  {
   "cell_type": "markdown",
   "metadata": {},
   "source": [
    "### Análisis G\n",
    "\n",
    "\\begin{equation} \\frac{d^{2}y}{dt^{2}} - 5\\frac{dy}{dt} + y(t) = x(t) \\end{equation}  \n",
    "- Lleve la ecuación diferencial al dominio de las frecuencias usando la transformada de Laplace.\n",
    "\n",
    "\\begin{equation}\n",
    "s^{2}*Y(s)-5sY(s)+Y(s)-X(s)=0\n",
    "\\end{equation}\n",
    "\n",
    "- Encuentre la función de transferencia del sistema.\n",
    "\\begin{equation}\n",
    "F(s) = Y (s) ( s^{2}-5s+1 ) = X (s)\n",
    "\\end{equation}\n",
    "\n",
    "\\begin{equation}\n",
    "F(s) = \\frac{Y(s)}{X(s)} = \\frac{1}{s^{2}-5s+1}\n",
    "\\end{equation}\n",
    "- Grafique el mapa de polos y ceros"
   ]
  },
  {
   "cell_type": "code",
   "execution_count": null,
   "metadata": {},
   "outputs": [],
   "source": []
  },
  {
   "cell_type": "markdown",
   "metadata": {},
   "source": [
    "- Analice la gráfica obtenida, escriba su análisis y determine la estabilidad del sistema y el tipo de amortiguamiento.\n",
    "    - Escriba aquí su discusión.\n",
    "    - Puede usar viñetas o párrafos.\n",
    "    - Conserve las sangrías para facilitar la lectura."
   ]
  },
  {
   "cell_type": "code",
   "execution_count": null,
   "metadata": {},
   "outputs": [],
   "source": [
    "## Aquí va el código extra que puede requerir para responder a las preguntas."
   ]
  },
  {
   "cell_type": "markdown",
   "metadata": {},
   "source": [
    "- Defina un periodo de muestreo apropiado para el sistema.\n",
    "\\begin{equation}\n",
    "T_\\text{s} = EscribaAquíElPeriodoDeMuestreo\n",
    "\\end{equation}\n",
    "- Encuentre el equivalente discreto del sistema (Ecuación en diferencias).\n",
    "\\begin{equation}\n",
    "EscribaAquíLaEcuación\n",
    "\\end{equation}\n",
    "\n",
    "**pista** : considere que $\\frac{df}{dt} \\approx \\frac{f(k \\cdot T_\\text{s})-f((k-1)T_\\text{s})}{T_\\text{s}}$\n",
    "\n",
    "- Encuentre la función de transferencia en $z$\n",
    "\\begin{equation}\n",
    "F(z) = EscribaAquíLaFunciónDeTransferencia\n",
    "\\end{equation}\n",
    "- Grafique el mapa de polos y ceros"
   ]
  },
  {
   "cell_type": "code",
   "execution_count": null,
   "metadata": {},
   "outputs": [],
   "source": [
    "## Aquí va el código para generar la gráfica pedida. Ejecute el código para generar la gráfica."
   ]
  },
  {
   "cell_type": "markdown",
   "metadata": {},
   "source": [
    "- Grafique y compare la respuesta frecuencial del sistema en tiempo continuo y en tiempo discreto."
   ]
  },
  {
   "cell_type": "code",
   "execution_count": null,
   "metadata": {},
   "outputs": [],
   "source": [
    "## Aquí va el código para generar la gráfica pedida. Ejecute el código para generar la gráfica."
   ]
  },
  {
   "cell_type": "code",
   "execution_count": null,
   "metadata": {},
   "outputs": [],
   "source": []
  },
  {
   "cell_type": "markdown",
   "metadata": {},
   "source": [
    "### Análisis H\n",
    "\n",
    "\\begin{equation} \\frac{d^{2}y}{dt^{2}} - 0.5\\frac{dy}{dt} + y(t) = x(t) \\end{equation} \n",
    "- Lleve la ecuación diferencial al dominio de las frecuencias usando la transformada de Laplace.\n",
    "\n",
    "\\begin{equation}\n",
    "s^{2}Y(s)-0.5s*Y(s)+Y(s)-X(s)=0\n",
    "\\end{equation}\n",
    "\n",
    "- Encuentre la función de transferencia del sistema.\n",
    "\\begin{equation}\n",
    "F(s) = Y (s) ( s^{2}-0.5s+1 ) = X (s)\n",
    "\\end{equation}\n",
    "\n",
    "\\begin{equation}\n",
    "F(s) = \\frac{Y(s)}{X(s)} = \\frac{1}{s^{2}-0.5s+1}\n",
    "\\end{equation}\n",
    "- Grafique el mapa de polos y ceros"
   ]
  },
  {
   "cell_type": "code",
   "execution_count": null,
   "metadata": {},
   "outputs": [],
   "source": []
  },
  {
   "cell_type": "markdown",
   "metadata": {},
   "source": [
    "- Analice la gráfica obtenida, escriba su análisis y determine la estabilidad del sistema y el tipo de amortiguamiento.\n",
    "    - Escriba aquí su discusión.\n",
    "    - Puede usar viñetas o párrafos.\n",
    "    - Conserve las sangrías para facilitar la lectura."
   ]
  },
  {
   "cell_type": "code",
   "execution_count": null,
   "metadata": {},
   "outputs": [],
   "source": [
    "## Aquí va el código extra que puede requerir para responder a las preguntas."
   ]
  },
  {
   "cell_type": "markdown",
   "metadata": {},
   "source": [
    "- Defina un periodo de muestreo apropiado para el sistema.\n",
    "\\begin{equation}\n",
    "T_\\text{s} = EscribaAquíElPeriodoDeMuestreo\n",
    "\\end{equation}\n",
    "- Encuentre el equivalente discreto del sistema (Ecuación en diferencias).\n",
    "\\begin{equation}\n",
    "EscribaAquíLaEcuación\n",
    "\\end{equation}\n",
    "\n",
    "**pista** : considere que $\\frac{df}{dt} \\approx \\frac{f(k \\cdot T_\\text{s})-f((k-1)T_\\text{s})}{T_\\text{s}}$\n",
    "\n",
    "- Encuentre la función de transferencia en $z$\n",
    "\\begin{equation}\n",
    "F(z) = EscribaAquíLaFunciónDeTransferencia\n",
    "\\end{equation}\n",
    "- Grafique el mapa de polos y ceros"
   ]
  },
  {
   "cell_type": "code",
   "execution_count": null,
   "metadata": {},
   "outputs": [],
   "source": [
    "## Aquí va el código para generar la gráfica pedida. Ejecute el código para generar la gráfica."
   ]
  },
  {
   "cell_type": "markdown",
   "metadata": {},
   "source": [
    "- Grafique y compare la respuesta frecuencial del sistema en tiempo continuo y en tiempo discreto."
   ]
  },
  {
   "cell_type": "code",
   "execution_count": null,
   "metadata": {},
   "outputs": [],
   "source": [
    "## Aquí va el código para generar la gráfica pedida. Ejecute el código para generar la gráfica."
   ]
  },
  {
   "cell_type": "code",
   "execution_count": null,
   "metadata": {},
   "outputs": [],
   "source": []
  },
  {
   "cell_type": "code",
   "execution_count": null,
   "metadata": {},
   "outputs": [],
   "source": []
  },
  {
   "cell_type": "markdown",
   "metadata": {},
   "source": [
    "## Análisis comparativo\n",
    "\n",
    "Con base en los resultados anteriores, realice un análisis comparativo y escriba sus observaciones\n",
    "\n",
    "- Escriba aquí sus respuestas\n",
    "- Puede usar viñetas"
   ]
  },
  {
   "cell_type": "markdown",
   "metadata": {},
   "source": [
    "## Conclusiones\n",
    "\n",
    "Escriba sus conclusiones\n",
    "\n",
    "- Use viñetas"
   ]
  }
 ],
 "metadata": {
  "kernelspec": {
   "display_name": "Python 3",
   "language": "python",
   "name": "python3"
  },
  "language_info": {
   "codemirror_mode": {
    "name": "ipython",
    "version": 3
   },
   "file_extension": ".py",
   "mimetype": "text/x-python",
   "name": "python",
   "nbconvert_exporter": "python",
   "pygments_lexer": "ipython3",
   "version": "3.7.8"
  },
  "latex_envs": {
   "bibliofile": "biblio.bib",
   "cite_by": "apalike",
   "current_citInitial": 1,
   "eqLabelWithNumbers": true,
   "eqNumInitial": 0
  }
 },
 "nbformat": 4,
 "nbformat_minor": 4
}
